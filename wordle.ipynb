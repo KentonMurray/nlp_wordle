{
 "cells": [
  {
   "cell_type": "markdown",
   "metadata": {},
   "source": [
    "In early 2022, the game wordle has been taking social media by storm. It's a fun game where players have six guesses to figure out a five letter word. The more I thought about it, the more I decided that it would be the perfect teaching tool for Natural Language Processing (NLP) methods - both classical and neural. By the end of this notebook you should be able to write an some algorithms to play the game as well as understand the fundamentals behind natural Lannguage processing"
   ]
  },
  {
   "cell_type": "markdown",
   "metadata": {},
   "source": [
    "First let's create a training dictionary"
   ]
  },
  {
   "cell_type": "code",
   "execution_count": 1,
   "metadata": {},
   "outputs": [
    {
     "name": "stdout",
     "output_type": "stream",
     "text": [
      "['words', 'count', 'equal', 'fivey']\n"
     ]
    }
   ],
   "source": [
    "toy_dictionary_file = \"./data/toy_dictionary.txt\"\n",
    "training_dictionary_file = \"./data/train.txt\"\n",
    "\n",
    "\n",
    "training_dictionary = []\n",
    "# with open(training_dictionary_file) as f:\n",
    "with open(toy_dictionary_file) as f: # useful for debuggin\n",
    "    for line in f:\n",
    "        line = line.rstrip('\\n')\n",
    "        line = line.lower() # case doesn't matter in the game\n",
    "        training_dictionary.append(line)\n",
    "print(training_dictionary)"
   ]
  },
  {
   "cell_type": "markdown",
   "metadata": {},
   "source": [
    "Let's make a mock board to play"
   ]
  },
  {
   "cell_type": "code",
   "execution_count": 2,
   "metadata": {},
   "outputs": [
    {
     "name": "stdout",
     "output_type": "stream",
     "text": [
      "__|__|__|__|__\n",
      "__|__|__|__|__\n",
      "__|__|__|__|__\n",
      "__|__|__|__|__\n",
      "__|__|__|__|__\n",
      "__|__|__|__|__\n",
      "\n"
     ]
    }
   ],
   "source": [
    "print(\"__|__|__|__|__\\n__|__|__|__|__\\n__|__|__|__|__\\n__|__|__|__|__\\n__|__|__|__|__\\n__|__|__|__|__\\n\")"
   ]
  },
  {
   "cell_type": "markdown",
   "metadata": {},
   "source": [
    "Now let's choose a random word from our training dictionary. Everytime you run the next bit of code, a new random word is chosen."
   ]
  },
  {
   "cell_type": "code",
   "execution_count": 3,
   "metadata": {},
   "outputs": [
    {
     "name": "stdout",
     "output_type": "stream",
     "text": [
      "The answer word is \" count \"\n"
     ]
    }
   ],
   "source": [
    "import random\n",
    "answer_word = random.choice(training_dictionary)\n",
    "print(\"The answer word is \\\"\", answer_word,\"\\\"\")"
   ]
  },
  {
   "cell_type": "markdown",
   "metadata": {},
   "source": [
    "Let's now take our first guess."
   ]
  },
  {
   "cell_type": "code",
   "execution_count": 4,
   "metadata": {},
   "outputs": [
    {
     "name": "stdout",
     "output_type": "stream",
     "text": [
      "words\n"
     ]
    }
   ],
   "source": [
    "guess = input() #type it in and hit enter"
   ]
  },
  {
   "cell_type": "code",
   "execution_count": 5,
   "metadata": {},
   "outputs": [
    {
     "name": "stdout",
     "output_type": "stream",
     "text": [
      "Your guess was: words\n",
      "Not correct. Guess again.\n"
     ]
    }
   ],
   "source": [
    "guess = guess.lower()\n",
    "print(\"Your guess was:\", guess)\n",
    "if  guess not in training_dictionary:\n",
    "    print(\"However, it is not in the dictionary. Guess again.\")\n",
    "elif guess == answer_word:\n",
    "    print(\"YAY! You got the answer_word\")\n",
    "else:\n",
    "    print(\"Not correct. Guess again.\")"
   ]
  },
  {
   "cell_type": "markdown",
   "metadata": {},
   "source": [
    "Of course, this isn't the whole game play. Let's add the rest of it."
   ]
  },
  {
   "cell_type": "code",
   "execution_count": null,
   "metadata": {},
   "outputs": [
    {
     "name": "stdout",
     "output_type": "stream",
     "text": [
      "words\n",
      "Your guess was: words\n",
      "Not correct. Guess again.\n",
      "\n",
      "w\n",
      "\n",
      "o\n",
      "\n",
      "r\n",
      "\n",
      "d\n",
      "\n",
      "s\n"
     ]
    }
   ],
   "source": [
    "num_guesses = 0\n",
    "guesses = []\n",
    "\n",
    "while num_guesses < 6:\n",
    "    guess = input()\n",
    "    guess = guess.lower()\n",
    "    num_guesses = num_guesses + 1\n",
    "    print(\"Your guess was:\", guess)\n",
    "    if  guess not in training_dictionary:\n",
    "        num_guesses = num_guesses - 1\n",
    "        print(\"However, it is not in the dictionary. Guess again.\")\n",
    "        continue\n",
    "    elif guess == answer_word:\n",
    "        print(\"YAY! You got the answer_word in\", num_guesses, \"guesses.\")\n",
    "        num_guesses = 6 # Dumb way to continue without breaking the notebook\n",
    "    else:\n",
    "        print(\"Not correct. Guess again.\")\n",
    "        guesses.append(guess)\n",
    "        for wrong in guesses:\n",
    "            formatted_letter = \"\"\n",
    "            for letter in wrong:\n",
    "                fomatted_letter = str(formatted_letter) + str(\"|\") + str(letter)\n",
    "                print(formatted_letter)\n",
    "                print(letter)"
   ]
  },
  {
   "cell_type": "markdown",
   "metadata": {},
   "source": [
    "placeholder"
   ]
  }
 ],
 "metadata": {
  "kernelspec": {
   "display_name": "Python 3",
   "language": "python",
   "name": "python3"
  },
  "language_info": {
   "codemirror_mode": {
    "name": "ipython",
    "version": 3
   },
   "file_extension": ".py",
   "mimetype": "text/x-python",
   "name": "python",
   "nbconvert_exporter": "python",
   "pygments_lexer": "ipython3",
   "version": "3.8.5"
  }
 },
 "nbformat": 4,
 "nbformat_minor": 4
}
