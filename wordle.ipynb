{
  "cells": [
    {
      "cell_type": "markdown",
      "metadata": {
        "id": "iJdGK8QPQ-zJ"
      },
      "source": [
        "In early 2022, the game wordle started taking social media by storm. It's a fun game where players have six guesses to figure out a five letter word. The more I thought about it, the more I decided that it would be the perfect teaching tool for Natural Language Processing (NLP) methods - both classical and neural. By the end of this notebook you should be able to write an some algorithms to play the game as well as understand the fundamentals behind natural Lannguage processing"
      ]
    },
    {
      "cell_type": "markdown",
      "metadata": {
        "id": "IofNZ02aQ-zM"
      },
      "source": [
        "First let's create a training dictionary"
      ]
    },
    {
      "cell_type": "code",
      "execution_count": 8,
      "metadata": {
        "colab": {
          "base_uri": "https://localhost:8080/"
        },
        "id": "3FBfnwqkQ-zM",
        "outputId": "0d365ab1-a4e3-43ed-ce13-90d252bcf960"
      },
      "outputs": [
        {
          "output_type": "stream",
          "name": "stdout",
          "text": [
            "--2025-09-04 16:42:54--  https://raw.githubusercontent.com/KentonMurray/nlp_wordle/main/data/toy_dictionary.txt\n",
            "Resolving raw.githubusercontent.com (raw.githubusercontent.com)... 185.199.109.133, 185.199.111.133, 185.199.110.133, ...\n",
            "Connecting to raw.githubusercontent.com (raw.githubusercontent.com)|185.199.109.133|:443... connected.\n",
            "HTTP request sent, awaiting response... 200 OK\n",
            "Length: 24 [text/plain]\n",
            "Saving to: ‘./data/toy_dictionary.txt’\n",
            "\n",
            "\rtoy_dictionary.txt    0%[                    ]       0  --.-KB/s               \rtoy_dictionary.txt  100%[===================>]      24  --.-KB/s    in 0s      \n",
            "\n",
            "2025-09-04 16:42:54 (916 KB/s) - ‘./data/toy_dictionary.txt’ saved [24/24]\n",
            "\n",
            "['words', 'count', 'equal', 'fivey']\n"
          ]
        }
      ],
      "source": [
        "toy_dictionary_file = \"./data/toy_dictionary.txt\"\n",
        "training_dictionary_file = \"./data/train.txt\"\n",
        "\n",
        "# Get data for running in colab from github\n",
        "!mkdir -p data # Create the data directory if it doesn't exist\n",
        "!wget https://raw.githubusercontent.com/KentonMurray/nlp_wordle/main/data/toy_dictionary.txt -P ./data/\n",
        "#!wget https://raw.githubusercontent.com/KentonMurray/nlp_wordle/main/data/train.txt -P ./data/\n",
        "\n",
        "training_dictionary = []\n",
        "# with open(training_dictionary_file) as f:\n",
        "with open(toy_dictionary_file) as f: # useful for debugging\n",
        "    for line in f:\n",
        "        line = line.rstrip('\\n')\n",
        "        line = line.lower() # case doesn't matter in the game\n",
        "        training_dictionary.append(line)\n",
        "print(training_dictionary)"
      ]
    },
    {
      "cell_type": "markdown",
      "metadata": {
        "id": "XwewyJr5Q-zO"
      },
      "source": [
        "Let's make a mock board to play"
      ]
    },
    {
      "cell_type": "code",
      "execution_count": 9,
      "metadata": {
        "colab": {
          "base_uri": "https://localhost:8080/"
        },
        "id": "GZ5UU_cwQ-zO",
        "outputId": "df457fb6-28ed-45bc-cd2e-1ff63ccdd7cb"
      },
      "outputs": [
        {
          "output_type": "stream",
          "name": "stdout",
          "text": [
            "__|__|__|__|__\n",
            "__|__|__|__|__\n",
            "__|__|__|__|__\n",
            "__|__|__|__|__\n",
            "__|__|__|__|__\n",
            "__|__|__|__|__\n",
            "\n"
          ]
        }
      ],
      "source": [
        "print(\"__|__|__|__|__\\n__|__|__|__|__\\n__|__|__|__|__\\n__|__|__|__|__\\n__|__|__|__|__\\n__|__|__|__|__\\n\")"
      ]
    },
    {
      "cell_type": "markdown",
      "metadata": {
        "id": "_y7v86IvQ-zO"
      },
      "source": [
        "Now let's choose a random word from our training dictionary. Everytime you run the next bit of code, a new random word is chosen."
      ]
    },
    {
      "cell_type": "code",
      "execution_count": 10,
      "metadata": {
        "colab": {
          "base_uri": "https://localhost:8080/"
        },
        "id": "KqZReCaeQ-zP",
        "outputId": "d0c420a0-f369-46d5-d093-2e466675a16b"
      },
      "outputs": [
        {
          "output_type": "stream",
          "name": "stdout",
          "text": [
            "The answer word is \" words \"\n"
          ]
        }
      ],
      "source": [
        "import random\n",
        "answer_word = random.choice(training_dictionary)\n",
        "print(\"The answer word is \\\"\", answer_word,\"\\\"\")"
      ]
    },
    {
      "cell_type": "markdown",
      "metadata": {
        "id": "32sEQStaQ-zP"
      },
      "source": [
        "Let's now take our first guess."
      ]
    },
    {
      "cell_type": "code",
      "execution_count": 11,
      "metadata": {
        "colab": {
          "base_uri": "https://localhost:8080/"
        },
        "id": "eqq0TbCZQ-zP",
        "outputId": "68908780-f661-402b-f605-f095f916b994"
      },
      "outputs": [
        {
          "name": "stdout",
          "output_type": "stream",
          "text": [
            "words\n"
          ]
        }
      ],
      "source": [
        "guess = input() #type it in and hit enter"
      ]
    },
    {
      "cell_type": "code",
      "execution_count": 12,
      "metadata": {
        "colab": {
          "base_uri": "https://localhost:8080/"
        },
        "id": "exdeeRHrQ-zQ",
        "outputId": "60fc863e-00df-4944-f896-080da01d7225"
      },
      "outputs": [
        {
          "output_type": "stream",
          "name": "stdout",
          "text": [
            "Your guess was: words\n",
            "YAY! You got the answer_word\n"
          ]
        }
      ],
      "source": [
        "guess = guess.lower()\n",
        "print(\"Your guess was:\", guess)\n",
        "if  guess not in training_dictionary:\n",
        "    print(\"However, it is not in the dictionary. Guess again.\")\n",
        "elif guess == answer_word:\n",
        "    print(\"YAY! You got the answer_word\")\n",
        "else:\n",
        "    print(\"Not correct. Guess again.\")"
      ]
    },
    {
      "cell_type": "markdown",
      "metadata": {
        "id": "F9J2NcD_Q-zQ"
      },
      "source": [
        "Of course, this isn't the whole game play. Let's add the rest of it. First, let's make a function that takes a guess and updates the game board. We will start with scoring words. Since colors are hard to do on the command line across platforms, we will mark correct letters in the correct place with uppercase and letters out of place with lower."
      ]
    },
    {
      "cell_type": "code",
      "execution_count": 27,
      "metadata": {
        "colab": {
          "base_uri": "https://localhost:8080/"
        },
        "id": "GW08cuagQ-zQ",
        "outputId": "536bf0bf-c37c-4063-e87a-fee9091a54e8"
      },
      "outputs": [
        {
          "output_type": "stream",
          "name": "stdout",
          "text": [
            "|\u001b[100m\u001b[97ms\u001b[0m|\u001b[42m\u001b[97mO\u001b[0m|\u001b[42m\u001b[97mU\u001b[0m|\u001b[100m\u001b[97mn\u001b[0m|\u001b[43m\u001b[97md\u001b[0m|\n"
          ]
        }
      ],
      "source": [
        "def score_guess(guess, answer_word):\n",
        "    place = 0\n",
        "    scored = [\"|\"]\n",
        "    while place < len(answer_word):\n",
        "        if guess[place] == answer_word[place]:\n",
        "            scored.append(\"\\033[42m\\033[97m\"+guess[place].upper()+\"\\033[0m\")\n",
        "        elif guess[place] in answer_word:\n",
        "            scored.append(\"\\033[43m\\033[97m\"+guess[place]+\"\\033[0m\")\n",
        "        else:\n",
        "            scored.append(\"\\033[100m\\033[97m\"+guess[place]+\"\\033[0m\")\n",
        "        place = place + 1\n",
        "        scored.append(\"|\")\n",
        "    return scored\n",
        "\n",
        "scored = score_guess(\"sound\", \"doubt\")\n",
        "print(\"Kenton\")\n",
        "print(scored)\n",
        "#recombined = \"\"\n",
        "#for letter in scored:\n",
        "#    recombined = recombined + '|' + letter\n",
        "#recombined = recombined + '|'\n",
        "#print(recombined)"
      ]
    },
    {
      "cell_type": "code",
      "execution_count": 28,
      "metadata": {
        "id": "zX25puLjQ-zQ"
      },
      "outputs": [],
      "source": [
        "def make_a_guess(guess, num_guesses, guesses, max_guesses=6):\n",
        "    guess = guess.lower()\n",
        "    num_guesses = num_guesses + 1\n",
        "    if  guess not in training_dictionary:\n",
        "        print(\"Your guess was:\", guess)\n",
        "        num_guesses = num_guesses - 1\n",
        "        print(\"However, it is not in the dictionary. Guess again.\")\n",
        "        return(num_guesses, guesses, max_guesses)\n",
        "    elif guess == answer_word:\n",
        "        print(\"YAY! You got the answer_word in\", num_guesses, \"guesses.\")\n",
        "        num_guesses = 6 # Dumb way to continue without breaking the notebook\n",
        "    else:\n",
        "        #print(\"Not correct. Guess again.\")\n",
        "        print(\"\")\n",
        "        print(\"\")\n",
        "        #guesses.append(guess)\n",
        "        for guess in guesses:\n",
        "            print(guess) #Print previous guesses\n",
        "        scored = score_guess(guess, answer_word)\n",
        "        #print(\"scored:\", scored)\n",
        "        recombined = \"\"\n",
        "        for letter in scored:\n",
        "            recombined = recombined + '|' + letter\n",
        "        recombined = recombined + '|'\n",
        "        print(recombined)\n",
        "        #print(\"_____\")\n",
        "        guesses.append(recombined)\n",
        "        for i in range(num_guesses, 6):\n",
        "            print(\"|_|_|_|_|_|\")\n",
        "\n",
        "    return(num_guesses, guesses, max_guesses)\n",
        "\n",
        "\n",
        "\n"
      ]
    },
    {
      "cell_type": "markdown",
      "metadata": {
        "id": "Lzyu0wDiQ-zR"
      },
      "source": [
        "Now let's add some boiler plate code that asks a user for input."
      ]
    },
    {
      "cell_type": "code",
      "execution_count": null,
      "metadata": {
        "colab": {
          "base_uri": "https://localhost:8080/"
        },
        "id": "VGS1eVNBQ-zR",
        "outputId": "4354d24b-9bfa-47b5-9312-1c8bc6f04411"
      },
      "outputs": [
        {
          "output_type": "stream",
          "name": "stdout",
          "text": [
            "count\n",
            "\n",
            "\n",
            "|\u001b[100m\u001b[97mc\u001b[0m|\u001b[42m\u001b[97mO\u001b[0m|\u001b[100m\u001b[97mu\u001b[0m|\u001b[100m\u001b[97mn\u001b[0m|\u001b[100m\u001b[97mt\u001b[0m|\n",
            "|_|_|_|_|_|\n",
            "|_|_|_|_|_|\n",
            "|_|_|_|_|_|\n",
            "|_|_|_|_|_|\n",
            "|_|_|_|_|_|\n",
            "count\n",
            "\n",
            "\n",
            "|\u001b[100m\u001b[97mc\u001b[0m|\u001b[42m\u001b[97mO\u001b[0m|\u001b[100m\u001b[97mu\u001b[0m|\u001b[100m\u001b[97mn\u001b[0m|\u001b[100m\u001b[97mt\u001b[0m|\n",
            "|\u001b[100m\u001b[97m|\u001b[0m|\u001b[100m\u001b[97m\u001b\u001b[0m|\u001b[100m\u001b[97m[\u001b[0m|\u001b[100m\u001b[97m1\u001b[0m|\u001b[100m\u001b[97m0\u001b[0m|\n",
            "|_|_|_|_|_|\n",
            "|_|_|_|_|_|\n",
            "|_|_|_|_|_|\n",
            "|_|_|_|_|_|\n",
            "count\n",
            "\n",
            "\n",
            "|\u001b[100m\u001b[97mc\u001b[0m|\u001b[42m\u001b[97mO\u001b[0m|\u001b[100m\u001b[97mu\u001b[0m|\u001b[100m\u001b[97mn\u001b[0m|\u001b[100m\u001b[97mt\u001b[0m|\n",
            "|\u001b[100m\u001b[97m|\u001b[0m|\u001b[100m\u001b[97m\u001b\u001b[0m|\u001b[100m\u001b[97m[\u001b[0m|\u001b[100m\u001b[97m1\u001b[0m|\u001b[100m\u001b[97m0\u001b[0m|\n",
            "|\u001b[100m\u001b[97m|\u001b[0m|\u001b[100m\u001b[97m\u001b\u001b[0m|\u001b[100m\u001b[97m[\u001b[0m|\u001b[100m\u001b[97m1\u001b[0m|\u001b[100m\u001b[97m0\u001b[0m|\n",
            "|_|_|_|_|_|\n",
            "|_|_|_|_|_|\n",
            "|_|_|_|_|_|\n"
          ]
        }
      ],
      "source": [
        "num_guesses = 0\n",
        "max_guesses = 6\n",
        "guesses = []\n",
        "\n",
        "while num_guesses < max_guesses:\n",
        "    guess = input()\n",
        "    num_guesses, guesses, max_guesses = make_a_guess(guess, num_guesses, guesses, max_guesses)"
      ]
    },
    {
      "cell_type": "markdown",
      "metadata": {
        "id": "eKJAipyeQ-zR"
      },
      "source": [
        "Now that we have the basic gameplay up and running, let's make an algorithm that plays the game."
      ]
    },
    {
      "cell_type": "markdown",
      "metadata": {
        "id": "P5o6jU7PQ-zR"
      },
      "source": [
        "### Dumb Algorithm ####\n",
        "Let'create the dumbest algorithm that we can. We will just randomly guess from the list of training words."
      ]
    },
    {
      "cell_type": "code",
      "execution_count": null,
      "metadata": {
        "id": "ZtxIGp87Q-zR",
        "outputId": "f3e5069c-92fa-40b4-86a1-8411352d5792"
      },
      "outputs": [
        {
          "name": "stdout",
          "output_type": "stream",
          "text": [
            "\n",
            "\n",
            "words\n",
            "_____\n",
            "__|__|__|__|__\n",
            "__|__|__|__|__\n",
            "__|__|__|__|__\n",
            "__|__|__|__|__\n",
            "__|__|__|__|__\n",
            "\n",
            "\n",
            "words\n",
            "_____\n",
            "equal\n",
            "_____\n",
            "__|__|__|__|__\n",
            "__|__|__|__|__\n",
            "__|__|__|__|__\n",
            "__|__|__|__|__\n",
            "\n",
            "\n",
            "words\n",
            "_____\n",
            "equal\n",
            "_____\n",
            "fivey\n",
            "_____\n",
            "__|__|__|__|__\n",
            "__|__|__|__|__\n",
            "__|__|__|__|__\n",
            "YAY! You got the answer_word in 4 guesses.\n"
          ]
        }
      ],
      "source": [
        "num_guesses = 0\n",
        "max_guesses = 6\n",
        "guesses = []\n",
        "\n",
        "while num_guesses < max_guesses:\n",
        "    guess = random.choice(training_dictionary)\n",
        "    num_guesses, guesses, max_guesses = make_a_guess(guess, num_guesses, guesses, max_guesses)"
      ]
    },
    {
      "cell_type": "markdown",
      "metadata": {
        "id": "4BtbyM1sQ-zR"
      },
      "source": [
        "Now this is a dumb algorithm, but it still gets the answer correct some of the times. Each guess is a random pick from the dictionary (with replacement). This means that it can guess the same word every time ... it is not learning. Ever guess is exactly 1/num_words_in_dictionary.\n",
        "\n",
        "Let's make a slightly less dumb algorithm. Now let's sample WITHOUT replacement. In other words, it cannot guess the same word twice."
      ]
    },
    {
      "cell_type": "code",
      "execution_count": null,
      "metadata": {
        "id": "ny9zpghhQ-zR",
        "outputId": "b7fa706b-daf6-47df-a561-af53463fa168"
      },
      "outputs": [
        {
          "name": "stdout",
          "output_type": "stream",
          "text": [
            "\n",
            "\n",
            "words\n",
            "_____\n",
            "__|__|__|__|__\n",
            "__|__|__|__|__\n",
            "__|__|__|__|__\n",
            "__|__|__|__|__\n",
            "__|__|__|__|__\n",
            "YAY! You got the answer_word in 2 guesses.\n",
            "\n",
            "\n",
            "words\n",
            "_____\n",
            "equal\n",
            "_____\n",
            "\n",
            "\n",
            "words\n",
            "_____\n",
            "equal\n",
            "_____\n",
            "fivey\n",
            "_____\n"
          ]
        }
      ],
      "source": [
        "num_guesses = 0\n",
        "max_guesses = 6\n",
        "guesses = []\n",
        "\n",
        "potential_guesses = random.sample(training_dictionary, min(max_guesses,len(training_dictionary)))\n",
        "for guess in potential_guesses:\n",
        "    num_guesses, guesses, max_guesses = make_a_guess(guess, num_guesses, guesses, max_guesses)\n",
        "    if guess == answer_word:\n",
        "        potential_guesses = [] # Another dumb way to exit the loop without breaking the notebook"
      ]
    },
    {
      "cell_type": "markdown",
      "metadata": {
        "id": "3tLjfOARQ-zS"
      },
      "source": [
        "## Statistically Inspired Dumb Algorithm ##\n",
        "Clearly, guessing randomly is not an intelligent way to solve the game wordle. After people have played the game a few times, they start to notice that guessing some words early on can tell them a lot for future guesses. This is basic corpus statistics and we will use this as a simple Machine Learning model. Let's rank the words in our dictionary by how often the letters within them occur."
      ]
    },
    {
      "cell_type": "code",
      "execution_count": null,
      "metadata": {
        "id": "yXr7oNH6Q-zS",
        "outputId": "83c3647d-85d4-4b11-867d-0f7de82fe3f7"
      },
      "outputs": [
        {
          "name": "stdout",
          "output_type": "stream",
          "text": [
            "['count', 'equal', 'words', 'fivey']\n"
          ]
        }
      ],
      "source": [
        "def sort_by_frequency(training_dictionary):\n",
        "    character_counts = {}\n",
        "    for word in training_dictionary:\n",
        "        #print(word)\n",
        "        for character in word:\n",
        "            #print(character)\n",
        "            if character in character_counts:\n",
        "                count = character_counts[character]\n",
        "                count = count + 1\n",
        "                character_counts[character] = count\n",
        "            else:\n",
        "                character_counts[character] = 1\n",
        "\n",
        "    # The character counts of the whole dictionary\n",
        "    #print(character_counts)\n",
        "\n",
        "    scored_words = {}\n",
        "    for word in training_dictionary:\n",
        "        score = 0\n",
        "        for character in word:\n",
        "            count = character_counts[character]\n",
        "            score = score + count\n",
        "        scored_words[word] = score\n",
        "\n",
        "\n",
        "    # Sort and print\n",
        "    sorted_scored_words = sorted(scored_words.items(), key=lambda x: x[1], reverse=True)\n",
        "    #print(sorted_scored_words)\n",
        "    sorted_dictionary = []\n",
        "    for word in sorted_scored_words:\n",
        "        sorted_dictionary.append(word[0])\n",
        "    #print(sorted_dictionary)\n",
        "    return(sorted_dictionary)\n",
        "\n",
        "print(sort_by_frequency(training_dictionary))"
      ]
    },
    {
      "cell_type": "markdown",
      "metadata": {
        "id": "p0rWryFfQ-zS"
      },
      "source": [
        "Now this is a slightly better method .... at least in theory. However, it doesn't take into account any of the knowledge that you have from previous guesses. The method is still just as likely to win as our other dumb algorithm of sampling without replacement (assuming the hidden word is chosen randomly, not by letter statistics)."
      ]
    },
    {
      "cell_type": "markdown",
      "metadata": {
        "id": "ys0HTmnwQ-zS"
      },
      "source": [
        "## Remaining Possibilities ##\n",
        "To make a much less dumb algorithm, let's constrain ourselves to ONLY guess words that are possible based off of our previous guesses. This is actually easier to implement for the \"Hard Mode\" setting of wordle. It is actually basically what the game absurdle is doing as well."
      ]
    },
    {
      "cell_type": "markdown",
      "metadata": {
        "id": "CTO9KIr0Q-zS"
      },
      "source": [
        "### Dumb Remaining Possibilities ###\n",
        "This is similar to our dumb model above. We randomly sample from the remaining possibilities. As we are not using learned information from the corpus (dictionary) this is NOT statistical NLP or machine learning.\n",
        "\n",
        "The first thing to do is define a function that scores a guess with the answer word."
      ]
    },
    {
      "cell_type": "code",
      "execution_count": null,
      "metadata": {
        "id": "QUzXxg08Q-zS",
        "outputId": "051d8ec0-7936-4b10-e83b-620f9a6b4cda"
      },
      "outputs": [
        {
          "name": "stdout",
          "output_type": "stream",
          "text": [
            "['_', 'O', '_', '_', '_']\n",
            "O\n",
            "['words']\n"
          ]
        }
      ],
      "source": [
        "import copy\n",
        "\n",
        "def dumb_remove_words(remaining, scored, guess):\n",
        "    new_remaining = []\n",
        "    for word in remaining:\n",
        "        #print(word)\n",
        "        place = 0\n",
        "        still_valid = True\n",
        "        while place < len(word):\n",
        "            if guess[place] == word[place]:\n",
        "                # Guess had letter in this place\n",
        "                if scored[place] == \"_\":\n",
        "                    # Word can no longer be correct\n",
        "                    #print(word, \"can no longer be correct\")\n",
        "                    still_valid = False\n",
        "            place = place + 1\n",
        "        if still_valid:\n",
        "            new_remaining.append(word)\n",
        "\n",
        "    # This has only filtered exact mistakes\n",
        "\n",
        "    # Check for exact matches\n",
        "    place = 0\n",
        "    while place < len(scored):\n",
        "        letter = scored[place]\n",
        "        if letter.isupper(): # Exact matches\n",
        "            print(letter)\n",
        "            updated_remaining = []\n",
        "            for word in new_remaining:\n",
        "                if word[place].upper() == letter:\n",
        "                    updated_remaining.append(word)\n",
        "            new_remaining = updated_remaining\n",
        "        elif letter.islower(): # Right letter, wrong place\n",
        "            print(letter)\n",
        "            updated_remaining = []\n",
        "            for word in new_remaining:\n",
        "                if letter in word: # It is in the word #TODO check logic\n",
        "                    if word[place] != letter: # And not in this place\n",
        "                        updated_remaining.append(word)\n",
        "            new_remaining = updated_remaining\n",
        "        place = place + 1\n",
        "\n",
        "\n",
        "\n",
        "    return new_remaining\n",
        "\n",
        "remaining = copy.deepcopy(training_dictionary)\n",
        "scored = score_guess(\"count\", \"words\")\n",
        "print(scored)\n",
        "remaining = dumb_remove_words(remaining, scored, \"count\")\n",
        "print(remaining)"
      ]
    },
    {
      "cell_type": "markdown",
      "metadata": {
        "id": "jyH48DuMQ-zT"
      },
      "source": [
        "Now, using our dumb selection algorithm, we can randomly guess and remove words."
      ]
    },
    {
      "cell_type": "code",
      "execution_count": null,
      "metadata": {
        "id": "3V62I6rjQ-zT",
        "outputId": "35b9d3be-2d57-4362-85eb-2d80cb47a495"
      },
      "outputs": [
        {
          "name": "stdout",
          "output_type": "stream",
          "text": [
            "['_', '_', '_', '_', '_']\n",
            "\n",
            "\n",
            "|_|_|_|_|_|\n",
            "|_|_|_|_|_|\n",
            "|_|_|_|_|_|\n",
            "|_|_|_|_|_|\n",
            "|_|_|_|_|_|\n",
            "|_|_|_|_|_|\n",
            "['_', '_', 'U', '_', '_']\n",
            "\n",
            "\n",
            "|_|_|_|_|_|\n",
            "|_|_|_|_|_|\n",
            "|_|_|_|_|_|\n",
            "|_|_|_|_|_|\n",
            "|_|_|_|_|_|\n",
            "|_|_|_|_|_|\n",
            "U\n",
            "['C', 'O', 'U', 'N', 'T']\n",
            "YAY! You got the answer_word in 3 guesses.\n",
            "C\n",
            "O\n",
            "U\n",
            "N\n",
            "T\n"
          ]
        }
      ],
      "source": [
        "import copy\n",
        "\n",
        "num_guesses = 0\n",
        "max_guesses = 6\n",
        "guesses = []\n",
        "\n",
        "# Remaining Guesses. First just use all the words in the dictionary\n",
        "remaining = copy.deepcopy(training_dictionary)\n",
        "\n",
        "while num_guesses < max_guesses:\n",
        "    #guess = input()\n",
        "    guess = random.choice(remaining)\n",
        "    scored = score_guess(guess, answer_word)\n",
        "    print(scored)\n",
        "    num_guesses, guesses, max_guesses = make_a_guess(guess, num_guesses, guesses, max_guesses)\n",
        "    remaining = dumb_remove_words(remaining, scored, guess)"
      ]
    },
    {
      "cell_type": "markdown",
      "metadata": {
        "id": "W4frdNJJQ-zT"
      },
      "source": [
        "### Statistically Informed Removing Possibilities ###\n",
        "Now, we can combine this with the statistically informed model we created earlier. Rather than randomly selecting from our remaining words, we sort by the most likely."
      ]
    },
    {
      "cell_type": "code",
      "execution_count": null,
      "metadata": {
        "id": "Ynep4fD3Q-zT",
        "outputId": "85ed8e35-fa1e-4b90-d325-d1c6cd1ea55f"
      },
      "outputs": [
        {
          "name": "stdout",
          "output_type": "stream",
          "text": [
            "['_', '_', '_', '_', '_']\n",
            "\n",
            "\n",
            "|_|_|_|_|_|\n",
            "|_|_|_|_|_|\n",
            "|_|_|_|_|_|\n",
            "|_|_|_|_|_|\n",
            "|_|_|_|_|_|\n",
            "|_|_|_|_|_|\n",
            "['C', 'O', 'U', 'N', 'T']\n",
            "YAY! You got the answer_word in 2 guesses.\n",
            "C\n",
            "O\n",
            "U\n",
            "N\n",
            "T\n"
          ]
        }
      ],
      "source": [
        "import copy\n",
        "\n",
        "num_guesses = 0\n",
        "max_guesses = 6\n",
        "guesses = []\n",
        "\n",
        "# Remaining Guesses. First just use all the words in the dictionary sorted by frequency\n",
        "remaining = sort_by_frequency(training_dictionary)\n",
        "\n",
        "while num_guesses < max_guesses:\n",
        "    #guess = input()\n",
        "    guess = random.choice(remaining)\n",
        "    scored = score_guess(guess, answer_word)\n",
        "    print(scored)\n",
        "    num_guesses, guesses, max_guesses = make_a_guess(guess, num_guesses, guesses, max_guesses)\n",
        "    remaining = dumb_remove_words(remaining, scored, guess) # Remove non-possibilities\n",
        "    remaining = sort_by_frequency(remaining) # Sort remaining by frequency\n",
        ""
      ]
    }
  ],
  "metadata": {
    "kernelspec": {
      "display_name": "Python 3",
      "language": "python",
      "name": "python3"
    },
    "language_info": {
      "codemirror_mode": {
        "name": "ipython",
        "version": 3
      },
      "file_extension": ".py",
      "mimetype": "text/x-python",
      "name": "python",
      "nbconvert_exporter": "python",
      "pygments_lexer": "ipython3",
      "version": "3.8.5"
    },
    "colab": {
      "provenance": []
    }
  },
  "nbformat": 4,
  "nbformat_minor": 0
}