{
 "cells": [
  {
   "cell_type": "markdown",
   "metadata": {},
   "source": [
    "In early 2022, the game wordle has been taking social media by storm. It's a fun game where players have six guesses to figure out a five letter word. The more I thought about it, the more I decided that it would be the perfect teaching tool for Natural Language Processing (NLP) methods - both classical and neural. By the end of this notebook you should be able to write an some algorithms to play the game as well as understand the fundamentals behind natural Lannguage processing"
   ]
  },
  {
   "cell_type": "markdown",
   "metadata": {},
   "source": [
    "First let's create a training dictionary"
   ]
  },
  {
   "cell_type": "code",
   "execution_count": 1,
   "metadata": {},
   "outputs": [
    {
     "name": "stdout",
     "output_type": "stream",
     "text": [
      "['words', 'count', 'equal', 'fivey']\n"
     ]
    }
   ],
   "source": [
    "toy_dictionary_file = \"./data/toy_dictionary.txt\"\n",
    "training_dictionary_file = \"./data/train.txt\"\n",
    "\n",
    "\n",
    "training_dictionary = []\n",
    "# with open(training_dictionary_file) as f:\n",
    "with open(toy_dictionary_file) as f: # useful for debuggin\n",
    "    for line in f:\n",
    "        line = line.rstrip('\\n')\n",
    "        line = line.lower() # case doesn't matter in the game\n",
    "        training_dictionary.append(line)\n",
    "print(training_dictionary)"
   ]
  },
  {
   "cell_type": "markdown",
   "metadata": {},
   "source": [
    "Let's make a mock board to play"
   ]
  },
  {
   "cell_type": "code",
   "execution_count": 2,
   "metadata": {},
   "outputs": [
    {
     "name": "stdout",
     "output_type": "stream",
     "text": [
      "__|__|__|__|__\n",
      "__|__|__|__|__\n",
      "__|__|__|__|__\n",
      "__|__|__|__|__\n",
      "__|__|__|__|__\n",
      "__|__|__|__|__\n",
      "\n"
     ]
    }
   ],
   "source": [
    "print(\"__|__|__|__|__\\n__|__|__|__|__\\n__|__|__|__|__\\n__|__|__|__|__\\n__|__|__|__|__\\n__|__|__|__|__\\n\")"
   ]
  },
  {
   "cell_type": "markdown",
   "metadata": {},
   "source": [
    "Now let's choose a random word from our training dictionary. Everytime you run the next bit of code, a new random word is chosen."
   ]
  },
  {
   "cell_type": "code",
   "execution_count": 3,
   "metadata": {},
   "outputs": [
    {
     "name": "stdout",
     "output_type": "stream",
     "text": [
      "The answer word is \" count \"\n"
     ]
    }
   ],
   "source": [
    "import random\n",
    "answer_word = random.choice(training_dictionary)\n",
    "print(\"The answer word is \\\"\", answer_word,\"\\\"\")"
   ]
  },
  {
   "cell_type": "markdown",
   "metadata": {},
   "source": [
    "Let's now take our first guess."
   ]
  },
  {
   "cell_type": "code",
   "execution_count": 4,
   "metadata": {},
   "outputs": [
    {
     "name": "stdout",
     "output_type": "stream",
     "text": [
      "words\n"
     ]
    }
   ],
   "source": [
    "guess = input() #type it in and hit enter"
   ]
  },
  {
   "cell_type": "code",
   "execution_count": 5,
   "metadata": {},
   "outputs": [
    {
     "name": "stdout",
     "output_type": "stream",
     "text": [
      "Your guess was: words\n",
      "Not correct. Guess again.\n"
     ]
    }
   ],
   "source": [
    "guess = guess.lower()\n",
    "print(\"Your guess was:\", guess)\n",
    "if  guess not in training_dictionary:\n",
    "    print(\"However, it is not in the dictionary. Guess again.\")\n",
    "elif guess == answer_word:\n",
    "    print(\"YAY! You got the answer_word\")\n",
    "else:\n",
    "    print(\"Not correct. Guess again.\")"
   ]
  },
  {
   "cell_type": "markdown",
   "metadata": {},
   "source": [
    "Of course, this isn't the whole game play. Let's add the rest of it. First, let's make a function that takes a guess and updates the game board."
   ]
  },
  {
   "cell_type": "code",
   "execution_count": 23,
   "metadata": {},
   "outputs": [
    {
     "name": "stdout",
     "output_type": "stream",
     "text": [
      "words\n",
      "\n",
      "\n",
      "words\n",
      "_____\n",
      "__|__|__|__|__\n",
      "__|__|__|__|__\n",
      "__|__|__|__|__\n",
      "__|__|__|__|__\n",
      "__|__|__|__|__\n",
      "words\n",
      "\n",
      "\n",
      "words\n",
      "_____\n",
      "words\n",
      "_____\n",
      "__|__|__|__|__\n",
      "__|__|__|__|__\n",
      "__|__|__|__|__\n",
      "__|__|__|__|__\n",
      "words\n",
      "\n",
      "\n",
      "words\n",
      "_____\n",
      "words\n",
      "_____\n",
      "words\n",
      "_____\n",
      "__|__|__|__|__\n",
      "__|__|__|__|__\n",
      "__|__|__|__|__\n",
      "words\n",
      "\n",
      "\n",
      "words\n",
      "_____\n",
      "words\n",
      "_____\n",
      "words\n",
      "_____\n",
      "words\n",
      "_____\n",
      "__|__|__|__|__\n",
      "__|__|__|__|__\n",
      "words\n",
      "\n",
      "\n",
      "words\n",
      "_____\n",
      "words\n",
      "_____\n",
      "words\n",
      "_____\n",
      "words\n",
      "_____\n",
      "words\n",
      "_____\n",
      "__|__|__|__|__\n",
      "words\n",
      "\n",
      "\n",
      "words\n",
      "_____\n",
      "words\n",
      "_____\n",
      "words\n",
      "_____\n",
      "words\n",
      "_____\n",
      "words\n",
      "_____\n",
      "words\n",
      "_____\n"
     ]
    }
   ],
   "source": [
    "def make_a_guess(guess, num_guesses, guesses, max_guesses=6):\n",
    "    guess = guess.lower()\n",
    "    num_guesses = num_guesses + 1\n",
    "    if  guess not in training_dictionary:\n",
    "        print(\"Your guess was:\", guess)\n",
    "        num_guesses = num_guesses - 1\n",
    "        print(\"However, it is not in the dictionary. Guess again.\")\n",
    "        return(num_guesses, guesses, max_guesses)\n",
    "    elif guess == answer_word:\n",
    "        print(\"YAY! You got the answer_word in\", num_guesses, \"guesses.\")\n",
    "        num_guesses = 6 # Dumb way to continue without breaking the notebook\n",
    "    else:\n",
    "        #print(\"Not correct. Guess again.\")\n",
    "        print(\"\")\n",
    "        print(\"\")\n",
    "        guesses.append(guess)\n",
    "        for wrong in guesses:\n",
    "        #    formatted_letter = \"\"\n",
    "        #    for letter in wrong:\n",
    "        #        fomatted_letter = str(formatted_letter) + str(\"|\") + str(letter)\n",
    "        #        print(formatted_letter)\n",
    "        #        print(letter)\n",
    "            print(wrong)\n",
    "            print(\"_____\")\n",
    "        for i in range(num_guesses, 6):\n",
    "            print(\"__|__|__|__|__\")\n",
    "\n",
    "    return(num_guesses, guesses, max_guesses)\n",
    "            \n",
    "\n",
    "    \n"
   ]
  },
  {
   "cell_type": "markdown",
   "metadata": {},
   "source": [
    "Now let's add some boiler plate code that asks a user for input."
   ]
  },
  {
   "cell_type": "code",
   "execution_count": 24,
   "metadata": {},
   "outputs": [
    {
     "name": "stdout",
     "output_type": "stream",
     "text": [
      "wors\n",
      "Your guess was: wors\n",
      "However, it is not in the dictionary. Guess again.\n",
      "words\n",
      "\n",
      "\n",
      "words\n",
      "_____\n",
      "__|__|__|__|__\n",
      "__|__|__|__|__\n",
      "__|__|__|__|__\n",
      "__|__|__|__|__\n",
      "__|__|__|__|__\n",
      "words\n",
      "\n",
      "\n",
      "words\n",
      "_____\n",
      "words\n",
      "_____\n",
      "__|__|__|__|__\n",
      "__|__|__|__|__\n",
      "__|__|__|__|__\n",
      "__|__|__|__|__\n",
      "words\n",
      "\n",
      "\n",
      "words\n",
      "_____\n",
      "words\n",
      "_____\n",
      "words\n",
      "_____\n",
      "__|__|__|__|__\n",
      "__|__|__|__|__\n",
      "__|__|__|__|__\n"
     ]
    },
    {
     "ename": "KeyboardInterrupt",
     "evalue": "Interrupted by user",
     "output_type": "error",
     "traceback": [
      "\u001b[1;31m---------------------------------------------------------------------------\u001b[0m",
      "\u001b[1;31mKeyboardInterrupt\u001b[0m                         Traceback (most recent call last)",
      "\u001b[1;32m<ipython-input-24-780fd8f977a3>\u001b[0m in \u001b[0;36m<module>\u001b[1;34m\u001b[0m\n\u001b[0;32m      4\u001b[0m \u001b[1;33m\u001b[0m\u001b[0m\n\u001b[0;32m      5\u001b[0m \u001b[1;32mwhile\u001b[0m \u001b[0mnum_guesses\u001b[0m \u001b[1;33m<\u001b[0m \u001b[0mmax_guesses\u001b[0m\u001b[1;33m:\u001b[0m\u001b[1;33m\u001b[0m\u001b[1;33m\u001b[0m\u001b[0m\n\u001b[1;32m----> 6\u001b[1;33m     \u001b[0mguess\u001b[0m \u001b[1;33m=\u001b[0m \u001b[0minput\u001b[0m\u001b[1;33m(\u001b[0m\u001b[1;33m)\u001b[0m\u001b[1;33m\u001b[0m\u001b[1;33m\u001b[0m\u001b[0m\n\u001b[0m\u001b[0;32m      7\u001b[0m     \u001b[0mnum_guesses\u001b[0m\u001b[1;33m,\u001b[0m \u001b[0mguesses\u001b[0m\u001b[1;33m,\u001b[0m \u001b[0mmax_guesses\u001b[0m \u001b[1;33m=\u001b[0m \u001b[0mmake_a_guess\u001b[0m\u001b[1;33m(\u001b[0m\u001b[0mguess\u001b[0m\u001b[1;33m,\u001b[0m \u001b[0mnum_guesses\u001b[0m\u001b[1;33m,\u001b[0m \u001b[0mguesses\u001b[0m\u001b[1;33m,\u001b[0m \u001b[0mmax_guesses\u001b[0m\u001b[1;33m)\u001b[0m\u001b[1;33m\u001b[0m\u001b[1;33m\u001b[0m\u001b[0m\n",
      "\u001b[1;32mC:\\ProgramData\\Anaconda3\\lib\\site-packages\\ipykernel\\kernelbase.py\u001b[0m in \u001b[0;36mraw_input\u001b[1;34m(self, prompt)\u001b[0m\n\u001b[0;32m    858\u001b[0m                 \u001b[1;34m\"raw_input was called, but this frontend does not support input requests.\"\u001b[0m\u001b[1;33m\u001b[0m\u001b[1;33m\u001b[0m\u001b[0m\n\u001b[0;32m    859\u001b[0m             )\n\u001b[1;32m--> 860\u001b[1;33m         return self._input_request(str(prompt),\n\u001b[0m\u001b[0;32m    861\u001b[0m             \u001b[0mself\u001b[0m\u001b[1;33m.\u001b[0m\u001b[0m_parent_ident\u001b[0m\u001b[1;33m,\u001b[0m\u001b[1;33m\u001b[0m\u001b[1;33m\u001b[0m\u001b[0m\n\u001b[0;32m    862\u001b[0m             \u001b[0mself\u001b[0m\u001b[1;33m.\u001b[0m\u001b[0m_parent_header\u001b[0m\u001b[1;33m,\u001b[0m\u001b[1;33m\u001b[0m\u001b[1;33m\u001b[0m\u001b[0m\n",
      "\u001b[1;32mC:\\ProgramData\\Anaconda3\\lib\\site-packages\\ipykernel\\kernelbase.py\u001b[0m in \u001b[0;36m_input_request\u001b[1;34m(self, prompt, ident, parent, password)\u001b[0m\n\u001b[0;32m    902\u001b[0m             \u001b[1;32mexcept\u001b[0m \u001b[0mKeyboardInterrupt\u001b[0m\u001b[1;33m:\u001b[0m\u001b[1;33m\u001b[0m\u001b[1;33m\u001b[0m\u001b[0m\n\u001b[0;32m    903\u001b[0m                 \u001b[1;31m# re-raise KeyboardInterrupt, to truncate traceback\u001b[0m\u001b[1;33m\u001b[0m\u001b[1;33m\u001b[0m\u001b[1;33m\u001b[0m\u001b[0m\n\u001b[1;32m--> 904\u001b[1;33m                 \u001b[1;32mraise\u001b[0m \u001b[0mKeyboardInterrupt\u001b[0m\u001b[1;33m(\u001b[0m\u001b[1;34m\"Interrupted by user\"\u001b[0m\u001b[1;33m)\u001b[0m \u001b[1;32mfrom\u001b[0m \u001b[1;32mNone\u001b[0m\u001b[1;33m\u001b[0m\u001b[1;33m\u001b[0m\u001b[0m\n\u001b[0m\u001b[0;32m    905\u001b[0m             \u001b[1;32mexcept\u001b[0m \u001b[0mException\u001b[0m \u001b[1;32mas\u001b[0m \u001b[0me\u001b[0m\u001b[1;33m:\u001b[0m\u001b[1;33m\u001b[0m\u001b[1;33m\u001b[0m\u001b[0m\n\u001b[0;32m    906\u001b[0m                 \u001b[0mself\u001b[0m\u001b[1;33m.\u001b[0m\u001b[0mlog\u001b[0m\u001b[1;33m.\u001b[0m\u001b[0mwarning\u001b[0m\u001b[1;33m(\u001b[0m\u001b[1;34m\"Invalid Message:\"\u001b[0m\u001b[1;33m,\u001b[0m \u001b[0mexc_info\u001b[0m\u001b[1;33m=\u001b[0m\u001b[1;32mTrue\u001b[0m\u001b[1;33m)\u001b[0m\u001b[1;33m\u001b[0m\u001b[1;33m\u001b[0m\u001b[0m\n",
      "\u001b[1;31mKeyboardInterrupt\u001b[0m: Interrupted by user"
     ]
    }
   ],
   "source": [
    "num_guesses = 0\n",
    "max_guesses = 6\n",
    "guesses = []\n",
    "    \n",
    "while num_guesses < max_guesses:\n",
    "    guess = input()\n",
    "    num_guesses, guesses, max_guesses = make_a_guess(guess, num_guesses, guesses, max_guesses)"
   ]
  },
  {
   "cell_type": "markdown",
   "metadata": {},
   "source": [
    "Now that we have the basic gameplay up and running, let's make an algorithm that plays the game."
   ]
  },
  {
   "cell_type": "markdown",
   "metadata": {},
   "source": [
    "### Dumb Algorithm ####\n",
    "Let'create the dumbest algorithm that we can. We will just randomly guess from the list of training words."
   ]
  },
  {
   "cell_type": "code",
   "execution_count": 27,
   "metadata": {},
   "outputs": [
    {
     "name": "stdout",
     "output_type": "stream",
     "text": [
      "\n",
      "\n",
      "words\n",
      "_____\n",
      "__|__|__|__|__\n",
      "__|__|__|__|__\n",
      "__|__|__|__|__\n",
      "__|__|__|__|__\n",
      "__|__|__|__|__\n",
      "\n",
      "\n",
      "words\n",
      "_____\n",
      "equal\n",
      "_____\n",
      "__|__|__|__|__\n",
      "__|__|__|__|__\n",
      "__|__|__|__|__\n",
      "__|__|__|__|__\n",
      "\n",
      "\n",
      "words\n",
      "_____\n",
      "equal\n",
      "_____\n",
      "fivey\n",
      "_____\n",
      "__|__|__|__|__\n",
      "__|__|__|__|__\n",
      "__|__|__|__|__\n",
      "YAY! You got the answer_word in 4 guesses.\n"
     ]
    }
   ],
   "source": [
    "num_guesses = 0\n",
    "max_guesses = 6\n",
    "guesses = []\n",
    "    \n",
    "while num_guesses < max_guesses:\n",
    "    guess = random.choice(training_dictionary)\n",
    "    num_guesses, guesses, max_guesses = make_a_guess(guess, num_guesses, guesses, max_guesses)"
   ]
  }
 ],
 "metadata": {
  "kernelspec": {
   "display_name": "Python 3",
   "language": "python",
   "name": "python3"
  },
  "language_info": {
   "codemirror_mode": {
    "name": "ipython",
    "version": 3
   },
   "file_extension": ".py",
   "mimetype": "text/x-python",
   "name": "python",
   "nbconvert_exporter": "python",
   "pygments_lexer": "ipython3",
   "version": "3.8.5"
  }
 },
 "nbformat": 4,
 "nbformat_minor": 4
}
